{
 "cells": [
  {
   "cell_type": "code",
   "execution_count": 1,
   "metadata": {},
   "outputs": [
    {
     "name": "stdout",
     "output_type": "stream",
     "text": [
      "        id  population  year  country_id country name      continent\n",
      "0        1         0.0  2000           1      Bermuda  North America\n",
      "1        2         0.0  2001           1      Bermuda  North America\n",
      "2        3         0.0  2002           1      Bermuda  North America\n",
      "3        4         0.0  2003           1      Bermuda  North America\n",
      "4        5         0.0  2004           1      Bermuda  North America\n",
      "...    ...         ...   ...         ...          ...            ...\n",
      "2338  2339        85.0  2006         214      Vietnam           Asia\n",
      "2339  2340        86.0  2007         214      Vietnam           Asia\n",
      "2340  2341        87.0  2008         214      Vietnam           Asia\n",
      "2341  2342        88.0  2009         214      Vietnam           Asia\n",
      "2342  2343        89.0  2010         214      Vietnam           Asia\n",
      "\n",
      "[2343 rows x 6 columns]\n",
      "year            2000  2001  2002  2003  2004  2005  2006  2007  2008  2009  \\\n",
      "country name                                                                 \n",
      "Afghanistan     22.0  22.0  23.0  24.0  25.0  25.0  26.0  26.0  27.0  28.0   \n",
      "Albania          3.0   3.0   3.0   3.0   3.0   3.0   3.0   2.0   2.0   2.0   \n",
      "Algeria         30.0  30.0  31.0  31.0  32.0  32.0  32.0  33.0  33.0  34.0   \n",
      "American Samoa   0.0   0.0   0.0   0.0   0.0   0.0   0.0   0.0   0.0   0.0   \n",
      "Angola          10.0  10.0  10.0  11.0  11.0  11.0  11.0  12.0  12.0  12.0   \n",
      "\n",
      "year            2010  \n",
      "country name          \n",
      "Afghanistan     29.0  \n",
      "Albania          2.0  \n",
      "Algeria         34.0  \n",
      "American Samoa   0.0  \n",
      "Angola          13.0  \n",
      "year\n",
      "2000    1\n",
      "2001    1\n",
      "2002    1\n",
      "2003    0\n",
      "2004    0\n",
      "2005    0\n",
      "2006    1\n",
      "2007    1\n",
      "2008    1\n",
      "2009    1\n",
      "2010    1\n",
      "dtype: int64\n"
     ]
    }
   ],
   "source": [
    "import pandas as pd\n",
    "\n",
    "#Open the CSV file\n",
    "df = pd.read_csv(\"/Users/Michelle Wong/Desktop/population.csv\")\n",
    "\n",
    "#Display the DataFram\n",
    "print(df)\n",
    "    \n",
    "# Reshape the dataset to organize years as columns\n",
    "df_reshaped = df.pivot(index='country name', columns='year', values='population')\n",
    "\n",
    "# Display the reshaped dataset for first few row\n",
    "print(df_reshaped.head())    \n",
    "\n",
    "# Check for missing or null values\n",
    "print(df_reshaped.isnull().sum())\n"
   ]
  }
 ],
 "metadata": {
  "kernelspec": {
   "display_name": "Python 3",
   "language": "python",
   "name": "python3"
  },
  "language_info": {
   "codemirror_mode": {
    "name": "ipython",
    "version": 3
   },
   "file_extension": ".py",
   "mimetype": "text/x-python",
   "name": "python",
   "nbconvert_exporter": "python",
   "pygments_lexer": "ipython3",
   "version": "3.13.0"
  }
 },
 "nbformat": 4,
 "nbformat_minor": 2
}
