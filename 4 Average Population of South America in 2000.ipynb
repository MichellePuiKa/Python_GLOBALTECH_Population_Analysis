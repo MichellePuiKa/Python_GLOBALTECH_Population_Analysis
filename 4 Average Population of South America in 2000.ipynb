{
 "cells": [
  {
   "cell_type": "code",
   "execution_count": 1,
   "metadata": {},
   "outputs": [
    {
     "name": "stdout",
     "output_type": "stream",
     "text": [
      "Average population of South American countries in 2000: 24.5\n",
      "\n",
      "Countries With Population Above the Average:\n",
      "+-----------+----------------------+\n",
      "|  Country  | Population (Million) |\n",
      "+-----------+----------------------+\n",
      "| Argentina |          37          |\n",
      "|  Brazil   |         176          |\n",
      "| Colombia  |          38          |\n",
      "|   Peru    |          26          |\n",
      "+-----------+----------------------+\n",
      "\n",
      "Countries With Population BELOW the Average:\n",
      "+-----------------------------------+----------------------+\n",
      "|              Country              | Population (Million) |\n",
      "+-----------------------------------+----------------------+\n",
      "|              Bolivia              |          8           |\n",
      "|               Chile               |          15          |\n",
      "|              Ecuador              |          12          |\n",
      "| Falkland Islands (Islas Malvinas) |          0           |\n",
      "|           French Guiana           |          0           |\n",
      "|              Guyana               |          0           |\n",
      "|             Paraguay              |          5           |\n",
      "|             Suriname              |          0           |\n",
      "|              Uruguay              |          3           |\n",
      "|             Venezuela             |          23          |\n",
      "+-----------------------------------+----------------------+\n"
     ]
    },
    {
     "name": "stderr",
     "output_type": "stream",
     "text": [
      "C:\\Users\\Michelle Wong\\AppData\\Local\\Temp\\ipykernel_10556\\676529186.py:23: SettingWithCopyWarning: \n",
      "A value is trying to be set on a copy of a slice from a DataFrame.\n",
      "Try using .loc[row_indexer,col_indexer] = value instead\n",
      "\n",
      "See the caveats in the documentation: https://pandas.pydata.org/pandas-docs/stable/user_guide/indexing.html#returning-a-view-versus-a-copy\n",
      "  above_average['population'] = above_average['population'].astype(int)\n",
      "C:\\Users\\Michelle Wong\\AppData\\Local\\Temp\\ipykernel_10556\\676529186.py:24: SettingWithCopyWarning: \n",
      "A value is trying to be set on a copy of a slice from a DataFrame.\n",
      "Try using .loc[row_indexer,col_indexer] = value instead\n",
      "\n",
      "See the caveats in the documentation: https://pandas.pydata.org/pandas-docs/stable/user_guide/indexing.html#returning-a-view-versus-a-copy\n",
      "  below_average['population'] = below_average['population'].astype(int)\n"
     ]
    }
   ],
   "source": [
    "import pandas as pd\n",
    "from tabulate import tabulate\n",
    "\n",
    "#Open the CSV file\n",
    "df = pd.read_csv(\"/Users/Michelle Wong/Desktop/population.csv\")\n",
    "    \n",
    "# Filter for South American countries in 2000\n",
    "df_2000_south_america = df[(df['year'] == 2000) & (df['continent'] == 'South America')]\n",
    "\n",
    "# Calculate the average population of South America in 2000\n",
    "average_population_south_america_2000 = df_2000_south_america['population'].mean()\n",
    "\n",
    "# Display the average population\n",
    "print(f\"Average population of South American countries in 2000: {average_population_south_america_2000}\")\n",
    "\n",
    "# Identify countries with population above the average\n",
    "above_average = df_2000_south_america[df_2000_south_america['population'] > average_population_south_america_2000]\n",
    "\n",
    "# Identify countries with population below the average\n",
    "below_average = df_2000_south_america[df_2000_south_america['population'] < average_population_south_america_2000]\n",
    "\n",
    "# Convert the population column to integers\n",
    "above_average['population'] = above_average['population'].astype(int)\n",
    "below_average['population'] = below_average['population'].astype(int)\n",
    "\n",
    "# Display the countries with populations above and below the average\n",
    "print(\"\\nCountries With Population Above the Average:\")\n",
    "print(tabulate(above_average[['country name', 'population']], headers=['Country', 'Population (Million)'], tablefmt='pretty', showindex=False))\n",
    "\n",
    "print(\"\\nCountries With Population BELOW the Average:\")\n",
    "print(tabulate(below_average[['country name', 'population']], headers=['Country', 'Population (Million)'], tablefmt='pretty', showindex=False))\n"
   ]
  }
 ],
 "metadata": {
  "kernelspec": {
   "display_name": "Python 3",
   "language": "python",
   "name": "python3"
  },
  "language_info": {
   "codemirror_mode": {
    "name": "ipython",
    "version": 3
   },
   "file_extension": ".py",
   "mimetype": "text/x-python",
   "name": "python",
   "nbconvert_exporter": "python",
   "pygments_lexer": "ipython3",
   "version": "3.13.0"
  }
 },
 "nbformat": 4,
 "nbformat_minor": 2
}
